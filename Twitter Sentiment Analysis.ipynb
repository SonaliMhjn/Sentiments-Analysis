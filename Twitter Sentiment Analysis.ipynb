{
 "cells": [
  {
   "cell_type": "markdown",
   "id": "509da8f3-2698-482f-bd4b-37dd66aee8e8",
   "metadata": {},
   "source": [
    "Social Media Sentiment Analysis (Twitter)"
   ]
  },
  {
   "cell_type": "markdown",
   "id": "faf196ca-1c49-4328-ac32-79f9af9e6db2",
   "metadata": {},
   "source": [
    "Importing necessary Libraries"
   ]
  },
  {
   "cell_type": "code",
   "execution_count": 1,
   "id": "c3dea031-c834-4337-b115-61b47ace05d1",
   "metadata": {},
   "outputs": [],
   "source": [
    "import pandas as pd\n",
    "import matplotlib.pyplot as plt\n",
    "import warnings\n",
    "import re\n",
    "import string\n",
    "import seaborn as sns"
   ]
  },
  {
   "cell_type": "markdown",
   "id": "89ffccc8-85bb-45c0-a9a8-ba75de51ee3b",
   "metadata": {},
   "source": [
    "Importing Machine Learning Utilities"
   ]
  },
  {
   "cell_type": "code",
   "execution_count": 2,
   "id": "dfc6b75f-e118-412f-b03f-e674c519f58f",
   "metadata": {},
   "outputs": [],
   "source": [
    "from sklearn.model_selection import train_test_split\n",
    "from sklearn.metrics import accuracy_score\n",
    "from sklearn.linear_model import LogisticRegression\n",
    "from sklearn.feature_extraction.text import TfidfVectorizer"
   ]
  },
  {
   "cell_type": "code",
   "execution_count": 3,
   "id": "852c4d95-3300-4b92-95a0-ae4ed86ed3c2",
   "metadata": {},
   "outputs": [],
   "source": [
    "#Suppressing future warning messages\n",
    "warnings.filterwarnings(\"ignore\", category=FutureWarning)"
   ]
  },
  {
   "cell_type": "markdown",
   "id": "bf480e8f-46a6-4c58-bf2c-6e86916da13f",
   "metadata": {},
   "source": [
    "Loading Dataset"
   ]
  },
  {
   "cell_type": "code",
   "execution_count": 4,
   "id": "843481cf-431a-48ed-b246-2c856a383313",
   "metadata": {},
   "outputs": [
    {
     "data": {
      "text/html": [
       "<div>\n",
       "<style scoped>\n",
       "    .dataframe tbody tr th:only-of-type {\n",
       "        vertical-align: middle;\n",
       "    }\n",
       "\n",
       "    .dataframe tbody tr th {\n",
       "        vertical-align: top;\n",
       "    }\n",
       "\n",
       "    .dataframe thead th {\n",
       "        text-align: right;\n",
       "    }\n",
       "</style>\n",
       "<table border=\"1\" class=\"dataframe\">\n",
       "  <thead>\n",
       "    <tr style=\"text-align: right;\">\n",
       "      <th></th>\n",
       "      <th>textID</th>\n",
       "      <th>text</th>\n",
       "      <th>selected_text</th>\n",
       "      <th>sentiment</th>\n",
       "      <th>Time of Tweet</th>\n",
       "      <th>Age of User</th>\n",
       "      <th>Country</th>\n",
       "      <th>Population -2020</th>\n",
       "      <th>Land Area (Km²)</th>\n",
       "      <th>Density (P/Km²)</th>\n",
       "    </tr>\n",
       "  </thead>\n",
       "  <tbody>\n",
       "    <tr>\n",
       "      <th>0</th>\n",
       "      <td>f0460d611d</td>\n",
       "      <td>not well</td>\n",
       "      <td>not well</td>\n",
       "      <td>negative</td>\n",
       "      <td>noon</td>\n",
       "      <td>60-70</td>\n",
       "      <td>Nicaragua</td>\n",
       "      <td>6624554.0</td>\n",
       "      <td>120340.0</td>\n",
       "      <td>55.0</td>\n",
       "    </tr>\n",
       "    <tr>\n",
       "      <th>1</th>\n",
       "      <td>6649f3558c</td>\n",
       "      <td>Not a prob hun</td>\n",
       "      <td>Not a prob</td>\n",
       "      <td>positive</td>\n",
       "      <td>night</td>\n",
       "      <td>70-100</td>\n",
       "      <td>Niger</td>\n",
       "      <td>24206644.0</td>\n",
       "      <td>1266700.0</td>\n",
       "      <td>19.0</td>\n",
       "    </tr>\n",
       "    <tr>\n",
       "      <th>2</th>\n",
       "      <td>24532ab83c</td>\n",
       "      <td>at dads, watching some mtv and am going on sim...</td>\n",
       "      <td>at dads, watching some mtv and am going on sim...</td>\n",
       "      <td>neutral</td>\n",
       "      <td>morning</td>\n",
       "      <td>0-20</td>\n",
       "      <td>Nigeria</td>\n",
       "      <td>206139589.0</td>\n",
       "      <td>910770.0</td>\n",
       "      <td>226.0</td>\n",
       "    </tr>\n",
       "    <tr>\n",
       "      <th>3</th>\n",
       "      <td>8e1583cb08</td>\n",
       "      <td>Absolutely</td>\n",
       "      <td>Absolutely</td>\n",
       "      <td>neutral</td>\n",
       "      <td>noon</td>\n",
       "      <td>21-30</td>\n",
       "      <td>North Korea</td>\n",
       "      <td>25778816.0</td>\n",
       "      <td>120410.0</td>\n",
       "      <td>214.0</td>\n",
       "    </tr>\n",
       "    <tr>\n",
       "      <th>4</th>\n",
       "      <td>4ea61dbc7a</td>\n",
       "      <td>what`s the matter chickadee?</td>\n",
       "      <td>what`s the matter chickadee?</td>\n",
       "      <td>neutral</td>\n",
       "      <td>night</td>\n",
       "      <td>31-45</td>\n",
       "      <td>North Macedonia</td>\n",
       "      <td>2083374.0</td>\n",
       "      <td>25220.0</td>\n",
       "      <td>83.0</td>\n",
       "    </tr>\n",
       "  </tbody>\n",
       "</table>\n",
       "</div>"
      ],
      "text/plain": [
       "       textID                                               text  \\\n",
       "0  f0460d611d                                           not well   \n",
       "1  6649f3558c                                     Not a prob hun   \n",
       "2  24532ab83c  at dads, watching some mtv and am going on sim...   \n",
       "3  8e1583cb08                                         Absolutely   \n",
       "4  4ea61dbc7a                       what`s the matter chickadee?   \n",
       "\n",
       "                                       selected_text sentiment Time of Tweet  \\\n",
       "0                                           not well  negative          noon   \n",
       "1                                         Not a prob  positive         night   \n",
       "2  at dads, watching some mtv and am going on sim...   neutral       morning   \n",
       "3                                         Absolutely   neutral          noon   \n",
       "4                       what`s the matter chickadee?   neutral         night   \n",
       "\n",
       "  Age of User          Country  Population -2020  Land Area (Km²)  \\\n",
       "0       60-70        Nicaragua         6624554.0         120340.0   \n",
       "1      70-100            Niger        24206644.0        1266700.0   \n",
       "2        0-20          Nigeria       206139589.0         910770.0   \n",
       "3       21-30      North Korea        25778816.0         120410.0   \n",
       "4       31-45  North Macedonia         2083374.0          25220.0   \n",
       "\n",
       "   Density (P/Km²)  \n",
       "0             55.0  \n",
       "1             19.0  \n",
       "2            226.0  \n",
       "3            214.0  \n",
       "4             83.0  "
      ]
     },
     "execution_count": 4,
     "metadata": {},
     "output_type": "execute_result"
    }
   ],
   "source": [
    "df = pd.read_csv(\"C:/Users/Sonali/Desktop/Dataset(Sentiments).csv\",encoding='latin1')\n",
    "df.head()"
   ]
  },
  {
   "cell_type": "markdown",
   "id": "e4fed071-4a26-4ef4-b244-e462514c5531",
   "metadata": {},
   "source": [
    "Basic dataset information"
   ]
  },
  {
   "cell_type": "code",
   "execution_count": 5,
   "id": "d39c1cd6-2f28-4626-aee2-7932fbb12fec",
   "metadata": {},
   "outputs": [
    {
     "name": "stdout",
     "output_type": "stream",
     "text": [
      "(1520, 10)\n",
      "<class 'pandas.core.frame.DataFrame'>\n",
      "RangeIndex: 1520 entries, 0 to 1519\n",
      "Data columns (total 10 columns):\n",
      " #   Column            Non-Null Count  Dtype  \n",
      "---  ------            --------------  -----  \n",
      " 0   textID            1488 non-null   object \n",
      " 1   text              1487 non-null   object \n",
      " 2   selected_text     1487 non-null   object \n",
      " 3   sentiment         1488 non-null   object \n",
      " 4   Time of Tweet     1488 non-null   object \n",
      " 5   Age of User       1488 non-null   object \n",
      " 6   Country           1488 non-null   object \n",
      " 7   Population -2020  1488 non-null   float64\n",
      " 8   Land Area (Km²)   1488 non-null   float64\n",
      " 9   Density (P/Km²)   1488 non-null   float64\n",
      "dtypes: float64(3), object(7)\n",
      "memory usage: 118.9+ KB\n",
      "None\n"
     ]
    }
   ],
   "source": [
    "print(df.shape)\n",
    "print(df.info())"
   ]
  },
  {
   "cell_type": "markdown",
   "id": "b88688a9-69f4-4c8a-ad5e-6d96802fd98b",
   "metadata": {},
   "source": [
    "Checking for Null values"
   ]
  },
  {
   "cell_type": "code",
   "execution_count": 6,
   "id": "ac22c8f8-68a5-4bf6-bf97-4accc01826f2",
   "metadata": {},
   "outputs": [
    {
     "data": {
      "text/plain": [
       "textID              32\n",
       "text                33\n",
       "selected_text       33\n",
       "sentiment           32\n",
       "Time of Tweet       32\n",
       "Age of User         32\n",
       "Country             32\n",
       "Population -2020    32\n",
       "Land Area (Km²)     32\n",
       "Density (P/Km²)     32\n",
       "dtype: int64"
      ]
     },
     "execution_count": 6,
     "metadata": {},
     "output_type": "execute_result"
    }
   ],
   "source": [
    "df.isna().sum()"
   ]
  },
  {
   "cell_type": "markdown",
   "id": "18d8d853-4a30-430b-9a6a-a177a62786c0",
   "metadata": {},
   "source": [
    "Dropping rows with missing values"
   ]
  },
  {
   "cell_type": "code",
   "execution_count": 7,
   "id": "96de40d8-be19-419c-a7c4-9eef9354ba8a",
   "metadata": {},
   "outputs": [],
   "source": [
    "df.dropna(inplace=True)"
   ]
  },
  {
   "cell_type": "code",
   "execution_count": 8,
   "id": "d5debf71-9cdf-41c4-8a0b-9ff843bd3037",
   "metadata": {},
   "outputs": [
    {
     "name": "stdout",
     "output_type": "stream",
     "text": [
      "<class 'pandas.core.frame.DataFrame'>\n",
      "Index: 1487 entries, 0 to 1519\n",
      "Data columns (total 10 columns):\n",
      " #   Column            Non-Null Count  Dtype  \n",
      "---  ------            --------------  -----  \n",
      " 0   textID            1487 non-null   object \n",
      " 1   text              1487 non-null   object \n",
      " 2   selected_text     1487 non-null   object \n",
      " 3   sentiment         1487 non-null   object \n",
      " 4   Time of Tweet     1487 non-null   object \n",
      " 5   Age of User       1487 non-null   object \n",
      " 6   Country           1487 non-null   object \n",
      " 7   Population -2020  1487 non-null   float64\n",
      " 8   Land Area (Km²)   1487 non-null   float64\n",
      " 9   Density (P/Km²)   1487 non-null   float64\n",
      "dtypes: float64(3), object(7)\n",
      "memory usage: 127.8+ KB\n"
     ]
    }
   ],
   "source": [
    "#After removing nan values the info is :\n",
    "df.info()"
   ]
  },
  {
   "cell_type": "markdown",
   "id": "246fecf4-d6d9-40c7-b88e-7c2c12517082",
   "metadata": {},
   "source": [
    "Visualizing sentiment distribution"
   ]
  },
  {
   "cell_type": "code",
   "execution_count": 9,
   "id": "b4a3162a-eb24-4a2a-a129-5112d85593f9",
   "metadata": {},
   "outputs": [
    {
     "data": {
      "image/png": "[encoded data removed]",
      "text/plain": [
       "<Figure size 800x400 with 1 Axes>"
      ]
     },
     "metadata": {},
     "output_type": "display_data"
    }
   ],
   "source": [
    "plt.figure(figsize=(8, 4))\n",
    "df['sentiment'].value_counts(normalize=True).plot(kind='bar',color='violet')\n",
    "plt.title('Twitter Sentiment Distribution Before Conversion')\n",
    "plt.show()"
   ]
  },
  {
   "cell_type": "markdown",
   "id": "16dcc854-dde5-4305-bee0-01ad8d299818",
   "metadata": {},
   "source": [
    "Convert categorical variables"
   ]
  },
  {
   "cell_type": "code",
   "execution_count": 10,
   "id": "d816ffcb-6269-42a1-b979-f3415b62ef42",
   "metadata": {},
   "outputs": [],
   "source": [
    "df['sentiment'] = pd.Categorical(df['sentiment']).codes\n",
    "df['Time of Tweet'] = pd.Categorical(df['Time of Tweet']).codes\n",
    "df['Country'] = pd.Categorical(df['Country']).codes"
   ]
  },
  {
   "cell_type": "markdown",
   "id": "5155b2f3-2301-4054-b5f8-37cd2f25fd15",
   "metadata": {},
   "source": [
    "Age group conversion to numerical approximation"
   ]
  },
  {
   "cell_type": "code",
   "execution_count": 11,
   "id": "9d8a0f3f-12df-448d-9cf7-920d10c76bc0",
   "metadata": {},
   "outputs": [],
   "source": [
    "age_mapping = {'0-20': 18, '21-30': 25, '31-45': 38, '46-60': 53, '60-70': 65, '70-100': 80}\n",
    "df['Age of User'] = df['Age of User'].map(age_mapping)"
   ]
  },
  {
   "cell_type": "markdown",
   "id": "c5e17551-3a34-4357-b722-3fd87ee14995",
   "metadata": {},
   "source": [
    "Age Distribution of Users"
   ]
  },
  {
   "cell_type": "code",
   "execution_count": 12,
   "id": "40d51c29-f5c0-4c9a-b9d1-b4688b5554c5",
   "metadata": {},
   "outputs": [
    {
     "data": {
      "image/png": "[encoded data removed]",
      "text/plain": [
       "<Figure size 800x400 with 1 Axes>"
      ]
     },
     "metadata": {},
     "output_type": "display_data"
    }
   ],
   "source": [
    "plt.figure(figsize=(8, 4))\n",
    "sns.histplot(df['Age of User'], kde=True)\n",
    "plt.title('Age Distribution of Users')\n",
    "plt.xlabel('Age')\n",
    "plt.ylabel('Frequency')\n",
    "plt.show()\n"
   ]
  },
  {
   "cell_type": "code",
   "execution_count": 13,
   "id": "227325bf-d3c5-4d82-9d6b-9af4260681cf",
   "metadata": {},
   "outputs": [
    {
     "data": {
      "image/png": "[encoded data removed]",
      "text/plain": [
       "<Figure size 800x400 with 1 Axes>"
      ]
     },
     "metadata": {},
     "output_type": "display_data"
    }
   ],
   "source": [
    "#Plotting Twitter Sentiment Distribution After Conversion\n",
    "plt.figure(figsize=(8, 4))\n",
    "df['sentiment'].value_counts(normalize=True).plot(kind='bar')\n",
    "plt.title('Twitter Sentiment Distribution After Conversion')\n",
    "plt.show()\n"
   ]
  },
  {
   "cell_type": "markdown",
   "id": "1207b8f0-ec91-483a-8324-3cffd1318bc1",
   "metadata": {},
   "source": [
    "Drop Irrelevant columns"
   ]
  },
  {
   "cell_type": "code",
   "execution_count": 14,
   "id": "d7b38109-7b22-4a2d-80cd-542b008cda82",
   "metadata": {},
   "outputs": [],
   "source": [
    "df1= df.drop(columns=['textID', 'Time of Tweet', 'Age of User', 'Country', 'Population -2020', 'Land Area (Km²)', 'Density (P/Km²)'])"
   ]
  },
  {
   "cell_type": "markdown",
   "id": "e98ce0d3-3071-4985-85b9-cb80f53566f8",
   "metadata": {},
   "source": [
    "Preprocessing function for text data"
   ]
  },
  {
   "cell_type": "code",
   "execution_count": 15,
   "id": "9ad8b104-43ff-438a-acb5-0f2b0b08e704",
   "metadata": {},
   "outputs": [],
   "source": [
    "def clean_text(text):\n",
    "    text = text.lower()\n",
    "    text = re.sub(r'\\[.*?\\]', '', text)\n",
    "    text = re.sub(r'\\\\W', \" \", text) \n",
    "    text = re.sub(r'https?://\\S+|www\\.\\S+', '', text)\n",
    "    text = re.sub(r'<.*?>+', '', text)\n",
    "    text = re.sub(f'[{re.escape(string.punctuation)}]', '', text)\n",
    "    text = re.sub(r'\\n', '', text)\n",
    "    text = re.sub(r'\\w*\\d\\w*', '', text)    \n",
    "    return text"
   ]
  },
  {
   "cell_type": "markdown",
   "id": "9eba87c5-6864-4bd3-ae42-4a66252d4bf1",
   "metadata": {},
   "source": [
    "Text cleaning"
   ]
  },
  {
   "cell_type": "code",
   "execution_count": 16,
   "id": "d169157d-2666-4465-a081-1d09cff251ee",
   "metadata": {},
   "outputs": [],
   "source": [
    "df1['cleaned_text'] = df1[\"selected_text\"].apply(clean_text)"
   ]
  },
  {
   "cell_type": "code",
   "execution_count": 17,
   "id": "c03fd0c8-7ac7-46db-bfaa-31051a3b18c4",
   "metadata": {},
   "outputs": [
    {
     "data": {
      "text/html": [
       "<div>\n",
       "<style scoped>\n",
       "    .dataframe tbody tr th:only-of-type {\n",
       "        vertical-align: middle;\n",
       "    }\n",
       "\n",
       "    .dataframe tbody tr th {\n",
       "        vertical-align: top;\n",
       "    }\n",
       "\n",
       "    .dataframe thead th {\n",
       "        text-align: right;\n",
       "    }\n",
       "</style>\n",
       "<table border=\"1\" class=\"dataframe\">\n",
       "  <thead>\n",
       "    <tr style=\"text-align: right;\">\n",
       "      <th></th>\n",
       "      <th>text</th>\n",
       "      <th>selected_text</th>\n",
       "      <th>sentiment</th>\n",
       "      <th>cleaned_text</th>\n",
       "    </tr>\n",
       "  </thead>\n",
       "  <tbody>\n",
       "    <tr>\n",
       "      <th>0</th>\n",
       "      <td>not well</td>\n",
       "      <td>not well</td>\n",
       "      <td>0</td>\n",
       "      <td>not well</td>\n",
       "    </tr>\n",
       "    <tr>\n",
       "      <th>1</th>\n",
       "      <td>Not a prob hun</td>\n",
       "      <td>Not a prob</td>\n",
       "      <td>2</td>\n",
       "      <td>not a prob</td>\n",
       "    </tr>\n",
       "    <tr>\n",
       "      <th>2</th>\n",
       "      <td>at dads, watching some mtv and am going on sim...</td>\n",
       "      <td>at dads, watching some mtv and am going on sim...</td>\n",
       "      <td>1</td>\n",
       "      <td>at dads watching some mtv and am going on  in ...</td>\n",
       "    </tr>\n",
       "    <tr>\n",
       "      <th>3</th>\n",
       "      <td>Absolutely</td>\n",
       "      <td>Absolutely</td>\n",
       "      <td>1</td>\n",
       "      <td>absolutely</td>\n",
       "    </tr>\n",
       "    <tr>\n",
       "      <th>4</th>\n",
       "      <td>what`s the matter chickadee?</td>\n",
       "      <td>what`s the matter chickadee?</td>\n",
       "      <td>1</td>\n",
       "      <td>whats the matter chickadee</td>\n",
       "    </tr>\n",
       "  </tbody>\n",
       "</table>\n",
       "</div>"
      ],
      "text/plain": [
       "                                                text  \\\n",
       "0                                           not well   \n",
       "1                                     Not a prob hun   \n",
       "2  at dads, watching some mtv and am going on sim...   \n",
       "3                                         Absolutely   \n",
       "4                       what`s the matter chickadee?   \n",
       "\n",
       "                                       selected_text  sentiment  \\\n",
       "0                                           not well          0   \n",
       "1                                         Not a prob          2   \n",
       "2  at dads, watching some mtv and am going on sim...          1   \n",
       "3                                         Absolutely          1   \n",
       "4                       what`s the matter chickadee?          1   \n",
       "\n",
       "                                        cleaned_text  \n",
       "0                                           not well  \n",
       "1                                         not a prob  \n",
       "2  at dads watching some mtv and am going on  in ...  \n",
       "3                                         absolutely  \n",
       "4                         whats the matter chickadee  "
      ]
     },
     "execution_count": 17,
     "metadata": {},
     "output_type": "execute_result"
    }
   ],
   "source": [
    "df1.head()"
   ]
  },
  {
   "cell_type": "markdown",
   "id": "030e93bb-37bf-4fc4-aee0-37a8869ee5b6",
   "metadata": {},
   "source": [
    "Prepare data for modeling"
   ]
  },
  {
   "cell_type": "code",
   "execution_count": 18,
   "id": "1325bab1-0085-4cb3-a97a-e881f18919c9",
   "metadata": {},
   "outputs": [],
   "source": [
    "X = df1['cleaned_text']\n",
    "y = df1['sentiment']"
   ]
  },
  {
   "cell_type": "code",
   "execution_count": 19,
   "id": "e315c175-efa6-4e96-b4ea-6aa3047e4791",
   "metadata": {},
   "outputs": [
    {
     "name": "stdout",
     "output_type": "stream",
     "text": [
      "0                                                not well\n",
      "1                                              not a prob\n",
      "2       at dads watching some mtv and am going on  in ...\n",
      "3                                              absolutely\n",
      "4                              whats the matter chickadee\n",
      "                              ...                        \n",
      "1515                                                 onna\n",
      "1516                           hes just not that into you\n",
      "1517     oh marly im so sorry  i hope you find her soon  \n",
      "1518                                          interesting\n",
      "1519    is cleaning the house for her family who is co...\n",
      "Name: cleaned_text, Length: 1487, dtype: object\n"
     ]
    }
   ],
   "source": [
    "print(X)\n"
   ]
  },
  {
   "cell_type": "code",
   "execution_count": 20,
   "id": "a960d7ea-c793-4ffd-b5fb-5baa72730697",
   "metadata": {},
   "outputs": [
    {
     "name": "stdout",
     "output_type": "stream",
     "text": [
      "0       0\n",
      "1       2\n",
      "2       1\n",
      "3       1\n",
      "4       1\n",
      "       ..\n",
      "1515    0\n",
      "1516    1\n",
      "1517    1\n",
      "1518    2\n",
      "1519    1\n",
      "Name: sentiment, Length: 1487, dtype: int8\n"
     ]
    }
   ],
   "source": [
    "print(y)"
   ]
  },
  {
   "cell_type": "markdown",
   "id": "d8efe834-93f4-4181-ae4b-f669edaf474d",
   "metadata": {},
   "source": [
    "Splitting dataset into train and test data"
   ]
  },
  {
   "cell_type": "code",
   "execution_count": 21,
   "id": "4c0c8944-b281-4513-a447-a854c17b6039",
   "metadata": {},
   "outputs": [],
   "source": [
    "X_train, X_test, y_train, y_test = train_test_split(X, y, test_size=0.2,stratify=y,random_state=2)"
   ]
  },
  {
   "cell_type": "code",
   "execution_count": 22,
   "id": "335a4c9f-1c3b-4786-aad9-afb868459aac",
   "metadata": {},
   "outputs": [
    {
     "name": "stdout",
     "output_type": "stream",
     "text": [
      "(1487,) (1189,) (298,)\n"
     ]
    }
   ],
   "source": [
    "print(X.shape,X_train.shape,X_test.shape)"
   ]
  },
  {
   "cell_type": "markdown",
   "id": "cc9ede70-53d9-462d-ae46-de4477aa2844",
   "metadata": {},
   "source": [
    "Converting Textual Data to Numerical Data"
   ]
  },
  {
   "cell_type": "markdown",
   "id": "17d0393c-b502-4702-99a5-eccd45b3154b",
   "metadata": {},
   "source": [
    " ~ Text Vectorization"
   ]
  },
  {
   "cell_type": "code",
   "execution_count": 23,
   "id": "ba9b623b-4d79-4c32-9a52-090762c1bd79",
   "metadata": {},
   "outputs": [],
   "source": [
    "vect = TfidfVectorizer()\n",
    "X_train = vect.fit_transform(X_train)\n",
    "X_test = vect.transform(X_test)"
   ]
  },
  {
   "cell_type": "code",
   "execution_count": 24,
   "id": "110aebdb-50de-4b88-9074-e62a3879a11c",
   "metadata": {},
   "outputs": [
    {
     "name": "stdout",
     "output_type": "stream",
     "text": [
      "<Compressed Sparse Row sparse matrix of dtype 'float64'\n",
      "\twith 7414 stored elements and shape (1189, 2247)>\n",
      "  Coords\tValues\n",
      "  (0, 1159)\t0.8295501360989468\n",
      "  (0, 808)\t0.5584322445008157\n",
      "  (1, 1052)\t0.2240658532743088\n",
      "  (1, 1571)\t0.4116923602025484\n",
      "  (1, 1920)\t0.2212558343792772\n",
      "  (1, 305)\t0.2732327836513697\n",
      "  (1, 745)\t0.3606364274801305\n",
      "  (1, 1912)\t0.3730700380657545\n",
      "  (1, 1292)\t0.4116923602025484\n",
      "  (1, 2167)\t0.2346104615145759\n",
      "  (1, 1304)\t0.18127991776170685\n",
      "  (1, 1002)\t0.3606364274801305\n",
      "  (2, 1573)\t0.20298424976406534\n",
      "  (2, 551)\t0.1804871814444442\n",
      "  (2, 1935)\t0.38347143120850957\n",
      "  (2, 1757)\t0.16629736833667053\n",
      "  (2, 1215)\t0.2530694983662445\n",
      "  (2, 2057)\t0.22596704574604587\n",
      "  (2, 1615)\t0.28889699192523866\n",
      "  (2, 271)\t0.28889699192523866\n",
      "  (2, 2139)\t0.1886059997904186\n",
      "  (2, 1460)\t0.24594062084465199\n",
      "  (2, 2063)\t0.27304307346485057\n",
      "  (2, 1976)\t0.2530694983662445\n",
      "  (2, 1217)\t0.1441739602230907\n",
      "  :\t:\n",
      "  (1182, 698)\t0.7971229444398178\n",
      "  (1183, 288)\t0.3307797447256133\n",
      "  (1183, 1986)\t0.24718732859400738\n",
      "  (1183, 1690)\t0.3064133113452857\n",
      "  (1183, 975)\t0.27418403058805496\n",
      "  (1183, 301)\t0.2666494904470272\n",
      "  (1183, 1298)\t0.36094852705717434\n",
      "  (1183, 109)\t0.3764574137104788\n",
      "  (1183, 294)\t0.3983159617594657\n",
      "  (1183, 968)\t0.3983159617594657\n",
      "  (1184, 1217)\t0.446533236079017\n",
      "  (1184, 276)\t0.8947670473798198\n",
      "  (1185, 48)\t0.22815681851694156\n",
      "  (1185, 1923)\t0.16249692348231867\n",
      "  (1185, 1368)\t0.20307298776432134\n",
      "  (1185, 1476)\t0.3573305114850885\n",
      "  (1185, 2218)\t0.3033419367618232\n",
      "  (1185, 1416)\t0.32033763423491923\n",
      "  (1185, 1929)\t0.3573305114850885\n",
      "  (1185, 1165)\t0.34542146498753945\n",
      "  (1185, 789)\t0.3943233887352577\n",
      "  (1185, 1262)\t0.3943233887352577\n",
      "  (1186, 1168)\t1.0\n",
      "  (1187, 653)\t1.0\n",
      "  (1188, 872)\t1.0\n"
     ]
    }
   ],
   "source": [
    "print(X_train)"
   ]
  },
  {
   "cell_type": "code",
   "execution_count": 25,
   "id": "75d91ca3-5fab-40d1-96d3-d7d0f775683d",
   "metadata": {},
   "outputs": [
    {
     "name": "stdout",
     "output_type": "stream",
     "text": [
      "<Compressed Sparse Row sparse matrix of dtype 'float64'\n",
      "\twith 1451 stored elements and shape (298, 2247)>\n",
      "  Coords\tValues\n",
      "  (2, 137)\t0.21967144690576418\n",
      "  (2, 155)\t0.20527565020344554\n",
      "  (2, 181)\t0.17438051830571213\n",
      "  (2, 199)\t0.2538693291840858\n",
      "  (2, 228)\t0.29821054078613146\n",
      "  (2, 428)\t0.2258931394749473\n",
      "  (2, 738)\t0.14593772097014587\n",
      "  (2, 910)\t0.2476476366149027\n",
      "  (2, 915)\t0.4588100304929617\n",
      "  (2, 1096)\t0.22940501524648085\n",
      "  (2, 1330)\t0.2538693291840858\n",
      "  (2, 1673)\t0.29821054078613146\n",
      "  (2, 1935)\t0.1979169497658088\n",
      "  (2, 2198)\t0.26122802962172254\n",
      "  (2, 2213)\t0.26122802962172254\n",
      "  (3, 1919)\t1.0\n",
      "  (4, 1368)\t0.4578437959122078\n",
      "  (4, 1991)\t0.8890326532499808\n",
      "  (5, 72)\t0.20918434415664608\n",
      "  (5, 782)\t0.279654770677705\n",
      "  (5, 799)\t0.28162774401866053\n",
      "  (5, 803)\t0.290238164120514\n",
      "  (5, 881)\t0.24515637337726814\n",
      "  (5, 1568)\t0.3691928073880498\n",
      "  (5, 1643)\t0.3691928073880498\n",
      "  :\t:\n",
      "  (291, 2028)\t0.2347821147092077\n",
      "  (291, 2049)\t0.20219487262580627\n",
      "  (291, 2172)\t0.30280514684662635\n",
      "  (292, 1011)\t0.5058768564553066\n",
      "  (292, 1919)\t0.6539379566227081\n",
      "  (292, 1920)\t0.5625422250738288\n",
      "  (293, 872)\t1.0\n",
      "  (294, 489)\t0.44280327200092146\n",
      "  (294, 1013)\t0.46347976965781135\n",
      "  (294, 1280)\t0.560794219070798\n",
      "  (294, 1973)\t0.5240435184982197\n",
      "  (295, 1389)\t0.36513228618983967\n",
      "  (295, 1468)\t0.6394585246028843\n",
      "  (295, 2055)\t0.6765879166039572\n",
      "  (296, 910)\t0.5037180876050419\n",
      "  (296, 997)\t0.5732769660859436\n",
      "  (296, 1052)\t0.3301256105874348\n",
      "  (296, 1350)\t0.34566142375510145\n",
      "  (296, 1920)\t0.32598549200207916\n",
      "  (296, 2226)\t0.28790680565218874\n",
      "  (297, 737)\t0.5422846165234045\n",
      "  (297, 958)\t0.5422846165234045\n",
      "  (297, 1006)\t0.28168911644267436\n",
      "  (297, 2028)\t0.40314238572972755\n",
      "  (297, 2100)\t0.41228903438002945\n"
     ]
    }
   ],
   "source": [
    "print(X_test)"
   ]
  },
  {
   "cell_type": "markdown",
   "id": "9f4fdb23-d229-42b0-b601-7d4f746bdc23",
   "metadata": {},
   "source": [
    "Training the Machine Learning Model"
   ]
  },
  {
   "cell_type": "code",
   "execution_count": 26,
   "id": "e8f0156a-dfcc-4971-9c57-263e256c4bec",
   "metadata": {},
   "outputs": [
    {
     "data": {
      "text/html": [
       "<style>#sk-container-id-1 {\n",
       "  /* Definition of color scheme common for light and dark mode */\n",
       "  --sklearn-color-text: black;\n",
       "  --sklearn-color-line: gray;\n",
       "  /* Definition of color scheme for unfitted estimators */\n",
       "  --sklearn-color-unfitted-level-0: #fff5e6;\n",
       "  --sklearn-color-unfitted-level-1: #f6e4d2;\n",
       "  --sklearn-color-unfitted-level-2: #ffe0b3;\n",
       "  --sklearn-color-unfitted-level-3: chocolate;\n",
       "  /* Definition of color scheme for fitted estimators */\n",
       "  --sklearn-color-fitted-level-0: #f0f8ff;\n",
       "  --sklearn-color-fitted-level-1: #d4ebff;\n",
       "  --sklearn-color-fitted-level-2: #b3dbfd;\n",
       "  --sklearn-color-fitted-level-3: cornflowerblue;\n",
       "\n",
       "  /* Specific color for light theme */\n",
       "  --sklearn-color-text-on-default-background: var(--sg-text-color, var(--theme-code-foreground, var(--jp-content-font-color1, black)));\n",
       "  --sklearn-color-background: var(--sg-background-color, var(--theme-background, var(--jp-layout-color0, white)));\n",
       "  --sklearn-color-border-box: var(--sg-text-color, var(--theme-code-foreground, var(--jp-content-font-color1, black)));\n",
       "  --sklearn-color-icon: #696969;\n",
       "\n",
       "  @media (prefers-color-scheme: dark) {\n",
       "    /* Redefinition of color scheme for dark theme */\n",
       "    --sklearn-color-text-on-default-background: var(--sg-text-color, var(--theme-code-foreground, var(--jp-content-font-color1, white)));\n",
       "    --sklearn-color-background: var(--sg-background-color, var(--theme-background, var(--jp-layout-color0, #111)));\n",
       "    --sklearn-color-border-box: var(--sg-text-color, var(--theme-code-foreground, var(--jp-content-font-color1, white)));\n",
       "    --sklearn-color-icon: #878787;\n",
       "  }\n",
       "}\n",
       "\n",
       "#sk-container-id-1 {\n",
       "  color: var(--sklearn-color-text);\n",
       "}\n",
       "\n",
       "#sk-container-id-1 pre {\n",
       "  padding: 0;\n",
       "}\n",
       "\n",
       "#sk-container-id-1 input.sk-hidden--visually {\n",
       "  border: 0;\n",
       "  clip: rect(1px 1px 1px 1px);\n",
       "  clip: rect(1px, 1px, 1px, 1px);\n",
       "  height: 1px;\n",
       "  margin: -1px;\n",
       "  overflow: hidden;\n",
       "  padding: 0;\n",
       "  position: absolute;\n",
       "  width: 1px;\n",
       "}\n",
       "\n",
       "#sk-container-id-1 div.sk-dashed-wrapped {\n",
       "  border: 1px dashed var(--sklearn-color-line);\n",
       "  margin: 0 0.4em 0.5em 0.4em;\n",
       "  box-sizing: border-box;\n",
       "  padding-bottom: 0.4em;\n",
       "  background-color: var(--sklearn-color-background);\n",
       "}\n",
       "\n",
       "#sk-container-id-1 div.sk-container {\n",
       "  /* jupyter's `normalize.less` sets `[hidden] { display: none; }`\n",
       "     but bootstrap.min.css set `[hidden] { display: none !important; }`\n",
       "     so we also need the `!important` here to be able to override the\n",
       "     default hidden behavior on the sphinx rendered scikit-learn.org.\n",
       "     See: https://github.com/scikit-learn/scikit-learn/issues/21755 */\n",
       "  display: inline-block !important;\n",
       "  position: relative;\n",
       "}\n",
       "\n",
       "#sk-container-id-1 div.sk-text-repr-fallback {\n",
       "  display: none;\n",
       "}\n",
       "\n",
       "div.sk-parallel-item,\n",
       "div.sk-serial,\n",
       "div.sk-item {\n",
       "  /* draw centered vertical line to link estimators */\n",
       "  background-image: linear-gradient(var(--sklearn-color-text-on-default-background), var(--sklearn-color-text-on-default-background));\n",
       "  background-size: 2px 100%;\n",
       "  background-repeat: no-repeat;\n",
       "  background-position: center center;\n",
       "}\n",
       "\n",
       "/* Parallel-specific style estimator block */\n",
       "\n",
       "#sk-container-id-1 div.sk-parallel-item::after {\n",
       "  content: \"\";\n",
       "  width: 100%;\n",
       "  border-bottom: 2px solid var(--sklearn-color-text-on-default-background);\n",
       "  flex-grow: 1;\n",
       "}\n",
       "\n",
       "#sk-container-id-1 div.sk-parallel {\n",
       "  display: flex;\n",
       "  align-items: stretch;\n",
       "  justify-content: center;\n",
       "  background-color: var(--sklearn-color-background);\n",
       "  position: relative;\n",
       "}\n",
       "\n",
       "#sk-container-id-1 div.sk-parallel-item {\n",
       "  display: flex;\n",
       "  flex-direction: column;\n",
       "}\n",
       "\n",
       "#sk-container-id-1 div.sk-parallel-item:first-child::after {\n",
       "  align-self: flex-end;\n",
       "  width: 50%;\n",
       "}\n",
       "\n",
       "#sk-container-id-1 div.sk-parallel-item:last-child::after {\n",
       "  align-self: flex-start;\n",
       "  width: 50%;\n",
       "}\n",
       "\n",
       "#sk-container-id-1 div.sk-parallel-item:only-child::after {\n",
       "  width: 0;\n",
       "}\n",
       "\n",
       "/* Serial-specific style estimator block */\n",
       "\n",
       "#sk-container-id-1 div.sk-serial {\n",
       "  display: flex;\n",
       "  flex-direction: column;\n",
       "  align-items: center;\n",
       "  background-color: var(--sklearn-color-background);\n",
       "  padding-right: 1em;\n",
       "  padding-left: 1em;\n",
       "}\n",
       "\n",
       "\n",
       "/* Toggleable style: style used for estimator/Pipeline/ColumnTransformer box that is\n",
       "clickable and can be expanded/collapsed.\n",
       "- Pipeline and ColumnTransformer use this feature and define the default style\n",
       "- Estimators will overwrite some part of the style using the `sk-estimator` class\n",
       "*/\n",
       "\n",
       "/* Pipeline and ColumnTransformer style (default) */\n",
       "\n",
       "#sk-container-id-1 div.sk-toggleable {\n",
       "  /* Default theme specific background. It is overwritten whether we have a\n",
       "  specific estimator or a Pipeline/ColumnTransformer */\n",
       "  background-color: var(--sklearn-color-background);\n",
       "}\n",
       "\n",
       "/* Toggleable label */\n",
       "#sk-container-id-1 label.sk-toggleable__label {\n",
       "  cursor: pointer;\n",
       "  display: block;\n",
       "  width: 100%;\n",
       "  margin-bottom: 0;\n",
       "  padding: 0.5em;\n",
       "  box-sizing: border-box;\n",
       "  text-align: center;\n",
       "}\n",
       "\n",
       "#sk-container-id-1 label.sk-toggleable__label-arrow:before {\n",
       "  /* Arrow on the left of the label */\n",
       "  content: \"▸\";\n",
       "  float: left;\n",
       "  margin-right: 0.25em;\n",
       "  color: var(--sklearn-color-icon);\n",
       "}\n",
       "\n",
       "#sk-container-id-1 label.sk-toggleable__label-arrow:hover:before {\n",
       "  color: var(--sklearn-color-text);\n",
       "}\n",
       "\n",
       "/* Toggleable content - dropdown */\n",
       "\n",
       "#sk-container-id-1 div.sk-toggleable__content {\n",
       "  max-height: 0;\n",
       "  max-width: 0;\n",
       "  overflow: hidden;\n",
       "  text-align: left;\n",
       "  /* unfitted */\n",
       "  background-color: var(--sklearn-color-unfitted-level-0);\n",
       "}\n",
       "\n",
       "#sk-container-id-1 div.sk-toggleable__content.fitted {\n",
       "  /* fitted */\n",
       "  background-color: var(--sklearn-color-fitted-level-0);\n",
       "}\n",
       "\n",
       "#sk-container-id-1 div.sk-toggleable__content pre {\n",
       "  margin: 0.2em;\n",
       "  border-radius: 0.25em;\n",
       "  color: var(--sklearn-color-text);\n",
       "  /* unfitted */\n",
       "  background-color: var(--sklearn-color-unfitted-level-0);\n",
       "}\n",
       "\n",
       "#sk-container-id-1 div.sk-toggleable__content.fitted pre {\n",
       "  /* unfitted */\n",
       "  background-color: var(--sklearn-color-fitted-level-0);\n",
       "}\n",
       "\n",
       "#sk-container-id-1 input.sk-toggleable__control:checked~div.sk-toggleable__content {\n",
       "  /* Expand drop-down */\n",
       "  max-height: 200px;\n",
       "  max-width: 100%;\n",
       "  overflow: auto;\n",
       "}\n",
       "\n",
       "#sk-container-id-1 input.sk-toggleable__control:checked~label.sk-toggleable__label-arrow:before {\n",
       "  content: \"▾\";\n",
       "}\n",
       "\n",
       "/* Pipeline/ColumnTransformer-specific style */\n",
       "\n",
       "#sk-container-id-1 div.sk-label input.sk-toggleable__control:checked~label.sk-toggleable__label {\n",
       "  color: var(--sklearn-color-text);\n",
       "  background-color: var(--sklearn-color-unfitted-level-2);\n",
       "}\n",
       "\n",
       "#sk-container-id-1 div.sk-label.fitted input.sk-toggleable__control:checked~label.sk-toggleable__label {\n",
       "  background-color: var(--sklearn-color-fitted-level-2);\n",
       "}\n",
       "\n",
       "/* Estimator-specific style */\n",
       "\n",
       "/* Colorize estimator box */\n",
       "#sk-container-id-1 div.sk-estimator input.sk-toggleable__control:checked~label.sk-toggleable__label {\n",
       "  /* unfitted */\n",
       "  background-color: var(--sklearn-color-unfitted-level-2);\n",
       "}\n",
       "\n",
       "#sk-container-id-1 div.sk-estimator.fitted input.sk-toggleable__control:checked~label.sk-toggleable__label {\n",
       "  /* fitted */\n",
       "  background-color: var(--sklearn-color-fitted-level-2);\n",
       "}\n",
       "\n",
       "#sk-container-id-1 div.sk-label label.sk-toggleable__label,\n",
       "#sk-container-id-1 div.sk-label label {\n",
       "  /* The background is the default theme color */\n",
       "  color: var(--sklearn-color-text-on-default-background);\n",
       "}\n",
       "\n",
       "/* On hover, darken the color of the background */\n",
       "#sk-container-id-1 div.sk-label:hover label.sk-toggleable__label {\n",
       "  color: var(--sklearn-color-text);\n",
       "  background-color: var(--sklearn-color-unfitted-level-2);\n",
       "}\n",
       "\n",
       "/* Label box, darken color on hover, fitted */\n",
       "#sk-container-id-1 div.sk-label.fitted:hover label.sk-toggleable__label.fitted {\n",
       "  color: var(--sklearn-color-text);\n",
       "  background-color: var(--sklearn-color-fitted-level-2);\n",
       "}\n",
       "\n",
       "/* Estimator label */\n",
       "\n",
       "#sk-container-id-1 div.sk-label label {\n",
       "  font-family: monospace;\n",
       "  font-weight: bold;\n",
       "  display: inline-block;\n",
       "  line-height: 1.2em;\n",
       "}\n",
       "\n",
       "#sk-container-id-1 div.sk-label-container {\n",
       "  text-align: center;\n",
       "}\n",
       "\n",
       "/* Estimator-specific */\n",
       "#sk-container-id-1 div.sk-estimator {\n",
       "  font-family: monospace;\n",
       "  border: 1px dotted var(--sklearn-color-border-box);\n",
       "  border-radius: 0.25em;\n",
       "  box-sizing: border-box;\n",
       "  margin-bottom: 0.5em;\n",
       "  /* unfitted */\n",
       "  background-color: var(--sklearn-color-unfitted-level-0);\n",
       "}\n",
       "\n",
       "#sk-container-id-1 div.sk-estimator.fitted {\n",
       "  /* fitted */\n",
       "  background-color: var(--sklearn-color-fitted-level-0);\n",
       "}\n",
       "\n",
       "/* on hover */\n",
       "#sk-container-id-1 div.sk-estimator:hover {\n",
       "  /* unfitted */\n",
       "  background-color: var(--sklearn-color-unfitted-level-2);\n",
       "}\n",
       "\n",
       "#sk-container-id-1 div.sk-estimator.fitted:hover {\n",
       "  /* fitted */\n",
       "  background-color: var(--sklearn-color-fitted-level-2);\n",
       "}\n",
       "\n",
       "/* Specification for estimator info (e.g. \"i\" and \"?\") */\n",
       "\n",
       "/* Common style for \"i\" and \"?\" */\n",
       "\n",
       ".sk-estimator-doc-link,\n",
       "a:link.sk-estimator-doc-link,\n",
       "a:visited.sk-estimator-doc-link {\n",
       "  float: right;\n",
       "  font-size: smaller;\n",
       "  line-height: 1em;\n",
       "  font-family: monospace;\n",
       "  background-color: var(--sklearn-color-background);\n",
       "  border-radius: 1em;\n",
       "  height: 1em;\n",
       "  width: 1em;\n",
       "  text-decoration: none !important;\n",
       "  margin-left: 1ex;\n",
       "  /* unfitted */\n",
       "  border: var(--sklearn-color-unfitted-level-1) 1pt solid;\n",
       "  color: var(--sklearn-color-unfitted-level-1);\n",
       "}\n",
       "\n",
       ".sk-estimator-doc-link.fitted,\n",
       "a:link.sk-estimator-doc-link.fitted,\n",
       "a:visited.sk-estimator-doc-link.fitted {\n",
       "  /* fitted */\n",
       "  border: var(--sklearn-color-fitted-level-1) 1pt solid;\n",
       "  color: var(--sklearn-color-fitted-level-1);\n",
       "}\n",
       "\n",
       "/* On hover */\n",
       "div.sk-estimator:hover .sk-estimator-doc-link:hover,\n",
       ".sk-estimator-doc-link:hover,\n",
       "div.sk-label-container:hover .sk-estimator-doc-link:hover,\n",
       ".sk-estimator-doc-link:hover {\n",
       "  /* unfitted */\n",
       "  background-color: var(--sklearn-color-unfitted-level-3);\n",
       "  color: var(--sklearn-color-background);\n",
       "  text-decoration: none;\n",
       "}\n",
       "\n",
       "div.sk-estimator.fitted:hover .sk-estimator-doc-link.fitted:hover,\n",
       ".sk-estimator-doc-link.fitted:hover,\n",
       "div.sk-label-container:hover .sk-estimator-doc-link.fitted:hover,\n",
       ".sk-estimator-doc-link.fitted:hover {\n",
       "  /* fitted */\n",
       "  background-color: var(--sklearn-color-fitted-level-3);\n",
       "  color: var(--sklearn-color-background);\n",
       "  text-decoration: none;\n",
       "}\n",
       "\n",
       "/* Span, style for the box shown on hovering the info icon */\n",
       ".sk-estimator-doc-link span {\n",
       "  display: none;\n",
       "  z-index: 9999;\n",
       "  position: relative;\n",
       "  font-weight: normal;\n",
       "  right: .2ex;\n",
       "  padding: .5ex;\n",
       "  margin: .5ex;\n",
       "  width: min-content;\n",
       "  min-width: 20ex;\n",
       "  max-width: 50ex;\n",
       "  color: var(--sklearn-color-text);\n",
       "  box-shadow: 2pt 2pt 4pt #999;\n",
       "  /* unfitted */\n",
       "  background: var(--sklearn-color-unfitted-level-0);\n",
       "  border: .5pt solid var(--sklearn-color-unfitted-level-3);\n",
       "}\n",
       "\n",
       ".sk-estimator-doc-link.fitted span {\n",
       "  /* fitted */\n",
       "  background: var(--sklearn-color-fitted-level-0);\n",
       "  border: var(--sklearn-color-fitted-level-3);\n",
       "}\n",
       "\n",
       ".sk-estimator-doc-link:hover span {\n",
       "  display: block;\n",
       "}\n",
       "\n",
       "/* \"?\"-specific style due to the `<a>` HTML tag */\n",
       "\n",
       "#sk-container-id-1 a.estimator_doc_link {\n",
       "  float: right;\n",
       "  font-size: 1rem;\n",
       "  line-height: 1em;\n",
       "  font-family: monospace;\n",
       "  background-color: var(--sklearn-color-background);\n",
       "  border-radius: 1rem;\n",
       "  height: 1rem;\n",
       "  width: 1rem;\n",
       "  text-decoration: none;\n",
       "  /* unfitted */\n",
       "  color: var(--sklearn-color-unfitted-level-1);\n",
       "  border: var(--sklearn-color-unfitted-level-1) 1pt solid;\n",
       "}\n",
       "\n",
       "#sk-container-id-1 a.estimator_doc_link.fitted {\n",
       "  /* fitted */\n",
       "  border: var(--sklearn-color-fitted-level-1) 1pt solid;\n",
       "  color: var(--sklearn-color-fitted-level-1);\n",
       "}\n",
       "\n",
       "/* On hover */\n",
       "#sk-container-id-1 a.estimator_doc_link:hover {\n",
       "  /* unfitted */\n",
       "  background-color: var(--sklearn-color-unfitted-level-3);\n",
       "  color: var(--sklearn-color-background);\n",
       "  text-decoration: none;\n",
       "}\n",
       "\n",
       "#sk-container-id-1 a.estimator_doc_link.fitted:hover {\n",
       "  /* fitted */\n",
       "  background-color: var(--sklearn-color-fitted-level-3);\n",
       "}\n",
       "</style><div id=\"sk-container-id-1\" class=\"sk-top-container\"><div class=\"sk-text-repr-fallback\"><pre>LogisticRegression()</pre><b>In a Jupyter environment, please rerun this cell to show the HTML representation or trust the notebook. <br />On GitHub, the HTML representation is unable to render, please try loading this page with nbviewer.org.</b></div><div class=\"sk-container\" hidden><div class=\"sk-item\"><div class=\"sk-estimator fitted sk-toggleable\"><input class=\"sk-toggleable__control sk-hidden--visually\" id=\"sk-estimator-id-1\" type=\"checkbox\" checked><label for=\"sk-estimator-id-1\" class=\"sk-toggleable__label fitted sk-toggleable__label-arrow fitted\">&nbsp;&nbsp;LogisticRegression<a class=\"sk-estimator-doc-link fitted\" rel=\"noreferrer\" target=\"_blank\" href=\"https://scikit-learn.org/1.5/modules/generated/sklearn.linear_model.LogisticRegression.html\">?<span>Documentation for LogisticRegression</span></a><span class=\"sk-estimator-doc-link fitted\">i<span>Fitted</span></span></label><div class=\"sk-toggleable__content fitted\"><pre>LogisticRegression()</pre></div> </div></div></div></div>"
      ],
      "text/plain": [
       "LogisticRegression()"
      ]
     },
     "execution_count": 26,
     "metadata": {},
     "output_type": "execute_result"
    }
   ],
   "source": [
    "model = LogisticRegression()\n",
    "model.fit(X_train,y_train)"
   ]
  },
  {
   "cell_type": "markdown",
   "id": "0183e07b-05e6-48d7-b937-7b166564485a",
   "metadata": {},
   "source": [
    "Model Evaluation"
   ]
  },
  {
   "cell_type": "markdown",
   "id": "558e0ca7-a15f-4c19-b2df-6e696fa7c2ac",
   "metadata": {},
   "source": [
    "Accuracy Score"
   ]
  },
  {
   "cell_type": "code",
   "execution_count": 27,
   "id": "6b69d6ee-466c-4984-bcad-a7a164310ed0",
   "metadata": {},
   "outputs": [
    {
     "name": "stdout",
     "output_type": "stream",
     "text": [
      "[2 1 1 ... 2 2 2]\n"
     ]
    }
   ],
   "source": [
    "# Prediction on the training data\n",
    "training_data_predict = model.predict(X_train)\n",
    "print(training_data_predict)"
   ]
  },
  {
   "cell_type": "code",
   "execution_count": 28,
   "id": "0622c13d-6a5c-4879-b079-28603f95d391",
   "metadata": {},
   "outputs": [
    {
     "name": "stdout",
     "output_type": "stream",
     "text": [
      "Accuracy score on the training data is  0.9419680403700589\n"
     ]
    }
   ],
   "source": [
    "#Accuracy score on training data\n",
    "training_data_accuracy= accuracy_score(y_train,training_data_predict)\n",
    "print(\"Accuracy score on the training data is \",training_data_accuracy)"
   ]
  },
  {
   "cell_type": "code",
   "execution_count": 29,
   "id": "0cd48f1e-9c89-401f-bae2-66ae21d50870",
   "metadata": {},
   "outputs": [
    {
     "data": {
      "image/png": "[encoded data removed]",
      "text/plain": [
       "<Figure size 1000x500 with 1 Axes>"
      ]
     },
     "metadata": {},
     "output_type": "display_data"
    }
   ],
   "source": [
    "plt.figure(figsize=(10, 5))\n",
    "plt.scatter(y_train, training_data_predict, color='red')\n",
    "plt.xlabel(\"Actual Values of Sentiments\")\n",
    "plt.ylabel(\"Predicted Values of Sentiments\")\n",
    "plt.title(\"Actual Values of Sentiments vs Predicted Values of Sentiments\")\n",
    "plt.show()\n"
   ]
  },
  {
   "cell_type": "markdown",
   "id": "c419a894-af70-4fd3-882c-22cf833a21cc",
   "metadata": {},
   "source": [
    "This scatter plot depicts that the predicted values of sentiments is also among 0,1,2"
   ]
  },
  {
   "cell_type": "code",
   "execution_count": 30,
   "id": "da1180a1-08b3-475f-8efa-693549d4011a",
   "metadata": {},
   "outputs": [
    {
     "name": "stdout",
     "output_type": "stream",
     "text": [
      "[0 0 1 2 1 1 0 2 2 1 2 1 0 0 1 0 1 1 1 2 0 1 1 1 1 1 0 1 2 1 2 0 0 0 0 1 2\n",
      " 1 0 0 2 0 1 1 0 1 2 0 1 1 0 1 2 1 0 1 2 0 1 2 1 2 0 2 0 0 0 0 1 0 0 1 2 1\n",
      " 1 0 1 1 1 1 0 2 1 0 2 1 1 1 2 1 2 0 1 1 0 0 1 1 1 1 1 0 0 2 1 0 1 1 1 0 1\n",
      " 0 2 1 1 0 0 1 0 1 1 1 2 0 0 1 2 0 0 0 1 1 1 2 0 1 1 1 2 1 2 1 1 2 2 1 2 0\n",
      " 1 0 0 2 2 2 0 1 1 0 1 0 0 2 0 0 1 1 2 0 0 1 0 1 2 1 1 2 1 2 1 1 0 0 1 0 1\n",
      " 1 1 1 0 2 1 1 2 2 2 2 0 0 1 2 1 0 0 1 1 0 0 0 1 2 0 1 1 2 1 2 1 2 1 2 2 1\n",
      " 0 0 0 0 0 1 1 0 0 0 2 0 0 0 1 2 1 2 2 0 1 0 1 0 0 2 0 2 1 1 0 1 1 1 0 0 1\n",
      " 2 1 1 1 1 2 1 1 0 1 2 1 1 1 1 1 1 1 1 2 1 1 2 1 2 1 2 0 1 2 1 0 2 2 2 2 1\n",
      " 1 1]\n"
     ]
    }
   ],
   "source": [
    "#Prediction on Testing Data\n",
    "test_data_predict = model.predict(X_test)\n",
    "print(test_data_predict)"
   ]
  },
  {
   "cell_type": "code",
   "execution_count": 31,
   "id": "3bfd227c-425f-421e-98a8-88407a947803",
   "metadata": {},
   "outputs": [
    {
     "name": "stdout",
     "output_type": "stream",
     "text": [
      "Accuracy score on the testing data is  0.785234899328859\n"
     ]
    }
   ],
   "source": [
    "#Accuracy score on the test data\n",
    "test_data_accuracy= accuracy_score(y_test, test_data_predict)\n",
    "print(\"Accuracy score on the testing data is \",test_data_accuracy)"
   ]
  },
  {
   "cell_type": "markdown",
   "id": "d95a0f8e-33c5-4c3d-8e22-134e164a1e76",
   "metadata": {},
   "source": [
    "So the Model Accuracy is 78.5%"
   ]
  },
  {
   "cell_type": "markdown",
   "id": "aa36b37a-915f-42dc-92c3-7385027948f4",
   "metadata": {},
   "source": [
    "Hence our Model is working perfectly"
   ]
  },
  {
   "cell_type": "markdown",
   "id": "9d19edac-9d04-468a-9759-fa4de2e56fad",
   "metadata": {},
   "source": [
    "Function for sentiment prediction"
   ]
  },
  {
   "cell_type": "code",
   "execution_count": 32,
   "id": "1c80bcf4-ee7d-4a54-9d73-f98775deb612",
   "metadata": {},
   "outputs": [],
   "source": [
    "def predict_sentiment(example_text):\n",
    "    cleaned_text = clean_text(example_text)\n",
    "    vectorized_text = vect.transform([cleaned_text])\n",
    "    prediction =  model.predict(vectorized_text) \n",
    "    if (prediction == 0):\n",
    "        print(\"Sentiment = Negative\" )\n",
    "    elif (prediction == 1):\n",
    "        print(\"Sentiment = Neutral\" )\n",
    "    else :\n",
    "        print(\"Sentiment = Positive\" )"
   ]
  },
  {
   "cell_type": "markdown",
   "id": "b8ed0d0b-fc6f-4cdf-8e2a-d3f869899037",
   "metadata": {},
   "source": [
    "~ Examples Usage"
   ]
  },
  {
   "cell_type": "code",
   "execution_count": 33,
   "id": "6084a8c3-301b-401d-8f31-d482b3385fcc",
   "metadata": {},
   "outputs": [
    {
     "name": "stdout",
     "output_type": "stream",
     "text": [
      "Sentiment = Negative\n"
     ]
    }
   ],
   "source": [
    "example_text = \"I am Sad\"\n",
    "predict_sentiment(example_text)"
   ]
  },
  {
   "cell_type": "code",
   "execution_count": 34,
   "id": "72067bea-e525-4061-b9da-b5c64badc1e1",
   "metadata": {},
   "outputs": [
    {
     "name": "stdout",
     "output_type": "stream",
     "text": [
      "Sentiment = Positive\n"
     ]
    }
   ],
   "source": [
    "example_text = \"I am Happy\"\n",
    "predict_sentiment(example_text)"
   ]
  },
  {
   "cell_type": "code",
   "execution_count": 35,
   "id": "1f7e75e6-e5c3-4c14-8cbb-23d865ceee27",
   "metadata": {},
   "outputs": [
    {
     "name": "stdout",
     "output_type": "stream",
     "text": [
      "Sentiment = Positive\n"
     ]
    }
   ],
   "source": [
    "example_text = \"I love my family\"\n",
    "predict_sentiment(example_text)"
   ]
  },
  {
   "cell_type": "code",
   "execution_count": 36,
   "id": "4c94aeca-d5a0-4e5c-8551-17aba3551328",
   "metadata": {},
   "outputs": [
    {
     "name": "stdout",
     "output_type": "stream",
     "text": [
      "Sentiment = Neutral\n"
     ]
    }
   ],
   "source": [
    "example_text = \"I do not like you\"\n",
    "predict_sentiment(example_text)"
   ]
  },
  {
   "cell_type": "code",
   "execution_count": 37,
   "id": "4b7e7d7f-1e82-4f42-8877-bf274b744ae3",
   "metadata": {},
   "outputs": [
    {
     "name": "stdout",
     "output_type": "stream",
     "text": [
      "Sentiment = Negative\n"
     ]
    }
   ],
   "source": [
    "example_text = \" kill you\"\n",
    "predict_sentiment(example_text)"
   ]
  },
  {
   "cell_type": "markdown",
   "id": "eddfadbc-08ff-446d-8029-dd3133a9e5d6",
   "metadata": {},
   "source": [
    "Hence,Our Model is working properly and we are able to classify user sentiments successfully"
   ]
  },
  {
   "cell_type": "code",
   "execution_count": null,
   "id": "d5cfcae5-3293-4bbf-8207-f18bc8d3cd9b",
   "metadata": {},
   "outputs": [],
   "source": []
  }
 ],
 "metadata": {
  "kernelspec": {
   "display_name": "Python 3 (ipykernel)",
   "language": "python",
   "name": "python3"
  },
  "language_info": {
   "codemirror_mode": {
    "name": "ipython",
    "version": 3
   },
   "file_extension": ".py",
   "mimetype": "text/x-python",
   "name": "python",
   "nbconvert_exporter": "python",
   "pygments_lexer": "ipython3",
   "version": "3.12.2"
  }
 },
 "nbformat": 4,
 "nbformat_minor": 5
}
